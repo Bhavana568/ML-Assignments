{
 "cells": [
  {
   "cell_type": "code",
   "execution_count": 21,
   "id": "ddfce766",
   "metadata": {},
   "outputs": [],
   "source": [
    "import pandas as pd\n",
    "import numpy as np"
   ]
  },
  {
   "cell_type": "code",
   "execution_count": 22,
   "id": "2be22ba6",
   "metadata": {},
   "outputs": [],
   "source": [
    "df=pd.read_csv('temperatures.csv')"
   ]
  },
  {
   "cell_type": "code",
   "execution_count": 23,
   "id": "78f655bc",
   "metadata": {},
   "outputs": [
    {
     "data": {
      "text/html": [
       "<div>\n",
       "<style scoped>\n",
       "    .dataframe tbody tr th:only-of-type {\n",
       "        vertical-align: middle;\n",
       "    }\n",
       "\n",
       "    .dataframe tbody tr th {\n",
       "        vertical-align: top;\n",
       "    }\n",
       "\n",
       "    .dataframe thead th {\n",
       "        text-align: right;\n",
       "    }\n",
       "</style>\n",
       "<table border=\"1\" class=\"dataframe\">\n",
       "  <thead>\n",
       "    <tr style=\"text-align: right;\">\n",
       "      <th></th>\n",
       "      <th>YEAR</th>\n",
       "      <th>JAN</th>\n",
       "      <th>FEB</th>\n",
       "      <th>MAR</th>\n",
       "      <th>APR</th>\n",
       "      <th>MAY</th>\n",
       "      <th>JUN</th>\n",
       "      <th>JUL</th>\n",
       "      <th>AUG</th>\n",
       "      <th>SEP</th>\n",
       "      <th>OCT</th>\n",
       "      <th>NOV</th>\n",
       "      <th>DEC</th>\n",
       "      <th>ANNUAL</th>\n",
       "      <th>JAN-FEB</th>\n",
       "      <th>MAR-MAY</th>\n",
       "      <th>JUN-SEP</th>\n",
       "      <th>OCT-DEC</th>\n",
       "    </tr>\n",
       "  </thead>\n",
       "  <tbody>\n",
       "    <tr>\n",
       "      <th>0</th>\n",
       "      <td>1901</td>\n",
       "      <td>22.40</td>\n",
       "      <td>24.14</td>\n",
       "      <td>29.07</td>\n",
       "      <td>31.91</td>\n",
       "      <td>33.41</td>\n",
       "      <td>33.18</td>\n",
       "      <td>31.21</td>\n",
       "      <td>30.39</td>\n",
       "      <td>30.47</td>\n",
       "      <td>29.97</td>\n",
       "      <td>27.31</td>\n",
       "      <td>24.49</td>\n",
       "      <td>28.96</td>\n",
       "      <td>23.27</td>\n",
       "      <td>31.46</td>\n",
       "      <td>31.27</td>\n",
       "      <td>27.25</td>\n",
       "    </tr>\n",
       "    <tr>\n",
       "      <th>1</th>\n",
       "      <td>1902</td>\n",
       "      <td>24.93</td>\n",
       "      <td>26.58</td>\n",
       "      <td>29.77</td>\n",
       "      <td>31.78</td>\n",
       "      <td>33.73</td>\n",
       "      <td>32.91</td>\n",
       "      <td>30.92</td>\n",
       "      <td>30.73</td>\n",
       "      <td>29.80</td>\n",
       "      <td>29.12</td>\n",
       "      <td>26.31</td>\n",
       "      <td>24.04</td>\n",
       "      <td>29.22</td>\n",
       "      <td>25.75</td>\n",
       "      <td>31.76</td>\n",
       "      <td>31.09</td>\n",
       "      <td>26.49</td>\n",
       "    </tr>\n",
       "    <tr>\n",
       "      <th>2</th>\n",
       "      <td>1903</td>\n",
       "      <td>23.44</td>\n",
       "      <td>25.03</td>\n",
       "      <td>27.83</td>\n",
       "      <td>31.39</td>\n",
       "      <td>32.91</td>\n",
       "      <td>33.00</td>\n",
       "      <td>31.34</td>\n",
       "      <td>29.98</td>\n",
       "      <td>29.85</td>\n",
       "      <td>29.04</td>\n",
       "      <td>26.08</td>\n",
       "      <td>23.65</td>\n",
       "      <td>28.47</td>\n",
       "      <td>24.24</td>\n",
       "      <td>30.71</td>\n",
       "      <td>30.92</td>\n",
       "      <td>26.26</td>\n",
       "    </tr>\n",
       "    <tr>\n",
       "      <th>3</th>\n",
       "      <td>1904</td>\n",
       "      <td>22.50</td>\n",
       "      <td>24.73</td>\n",
       "      <td>28.21</td>\n",
       "      <td>32.02</td>\n",
       "      <td>32.64</td>\n",
       "      <td>32.07</td>\n",
       "      <td>30.36</td>\n",
       "      <td>30.09</td>\n",
       "      <td>30.04</td>\n",
       "      <td>29.20</td>\n",
       "      <td>26.36</td>\n",
       "      <td>23.63</td>\n",
       "      <td>28.49</td>\n",
       "      <td>23.62</td>\n",
       "      <td>30.95</td>\n",
       "      <td>30.66</td>\n",
       "      <td>26.40</td>\n",
       "    </tr>\n",
       "    <tr>\n",
       "      <th>4</th>\n",
       "      <td>1905</td>\n",
       "      <td>22.00</td>\n",
       "      <td>22.83</td>\n",
       "      <td>26.68</td>\n",
       "      <td>30.01</td>\n",
       "      <td>33.32</td>\n",
       "      <td>33.25</td>\n",
       "      <td>31.44</td>\n",
       "      <td>30.68</td>\n",
       "      <td>30.12</td>\n",
       "      <td>30.67</td>\n",
       "      <td>27.52</td>\n",
       "      <td>23.82</td>\n",
       "      <td>28.30</td>\n",
       "      <td>22.25</td>\n",
       "      <td>30.00</td>\n",
       "      <td>31.33</td>\n",
       "      <td>26.57</td>\n",
       "    </tr>\n",
       "    <tr>\n",
       "      <th>...</th>\n",
       "      <td>...</td>\n",
       "      <td>...</td>\n",
       "      <td>...</td>\n",
       "      <td>...</td>\n",
       "      <td>...</td>\n",
       "      <td>...</td>\n",
       "      <td>...</td>\n",
       "      <td>...</td>\n",
       "      <td>...</td>\n",
       "      <td>...</td>\n",
       "      <td>...</td>\n",
       "      <td>...</td>\n",
       "      <td>...</td>\n",
       "      <td>...</td>\n",
       "      <td>...</td>\n",
       "      <td>...</td>\n",
       "      <td>...</td>\n",
       "      <td>...</td>\n",
       "    </tr>\n",
       "    <tr>\n",
       "      <th>112</th>\n",
       "      <td>2013</td>\n",
       "      <td>24.56</td>\n",
       "      <td>26.59</td>\n",
       "      <td>30.62</td>\n",
       "      <td>32.66</td>\n",
       "      <td>34.46</td>\n",
       "      <td>32.44</td>\n",
       "      <td>31.07</td>\n",
       "      <td>30.76</td>\n",
       "      <td>31.04</td>\n",
       "      <td>30.27</td>\n",
       "      <td>27.83</td>\n",
       "      <td>25.37</td>\n",
       "      <td>29.81</td>\n",
       "      <td>25.58</td>\n",
       "      <td>32.58</td>\n",
       "      <td>31.33</td>\n",
       "      <td>27.83</td>\n",
       "    </tr>\n",
       "    <tr>\n",
       "      <th>113</th>\n",
       "      <td>2014</td>\n",
       "      <td>23.83</td>\n",
       "      <td>25.97</td>\n",
       "      <td>28.95</td>\n",
       "      <td>32.74</td>\n",
       "      <td>33.77</td>\n",
       "      <td>34.15</td>\n",
       "      <td>31.85</td>\n",
       "      <td>31.32</td>\n",
       "      <td>30.68</td>\n",
       "      <td>30.29</td>\n",
       "      <td>28.05</td>\n",
       "      <td>25.08</td>\n",
       "      <td>29.72</td>\n",
       "      <td>24.90</td>\n",
       "      <td>31.82</td>\n",
       "      <td>32.00</td>\n",
       "      <td>27.81</td>\n",
       "    </tr>\n",
       "    <tr>\n",
       "      <th>114</th>\n",
       "      <td>2015</td>\n",
       "      <td>24.58</td>\n",
       "      <td>26.89</td>\n",
       "      <td>29.07</td>\n",
       "      <td>31.87</td>\n",
       "      <td>34.09</td>\n",
       "      <td>32.48</td>\n",
       "      <td>31.88</td>\n",
       "      <td>31.52</td>\n",
       "      <td>31.55</td>\n",
       "      <td>31.04</td>\n",
       "      <td>28.10</td>\n",
       "      <td>25.67</td>\n",
       "      <td>29.90</td>\n",
       "      <td>25.74</td>\n",
       "      <td>31.68</td>\n",
       "      <td>31.87</td>\n",
       "      <td>28.27</td>\n",
       "    </tr>\n",
       "    <tr>\n",
       "      <th>115</th>\n",
       "      <td>2016</td>\n",
       "      <td>26.94</td>\n",
       "      <td>29.72</td>\n",
       "      <td>32.62</td>\n",
       "      <td>35.38</td>\n",
       "      <td>35.72</td>\n",
       "      <td>34.03</td>\n",
       "      <td>31.64</td>\n",
       "      <td>31.79</td>\n",
       "      <td>31.66</td>\n",
       "      <td>31.98</td>\n",
       "      <td>30.11</td>\n",
       "      <td>28.01</td>\n",
       "      <td>31.63</td>\n",
       "      <td>28.33</td>\n",
       "      <td>34.57</td>\n",
       "      <td>32.28</td>\n",
       "      <td>30.03</td>\n",
       "    </tr>\n",
       "    <tr>\n",
       "      <th>116</th>\n",
       "      <td>2017</td>\n",
       "      <td>26.45</td>\n",
       "      <td>29.46</td>\n",
       "      <td>31.60</td>\n",
       "      <td>34.95</td>\n",
       "      <td>35.84</td>\n",
       "      <td>33.82</td>\n",
       "      <td>31.88</td>\n",
       "      <td>31.72</td>\n",
       "      <td>32.22</td>\n",
       "      <td>32.29</td>\n",
       "      <td>29.60</td>\n",
       "      <td>27.18</td>\n",
       "      <td>31.42</td>\n",
       "      <td>27.95</td>\n",
       "      <td>34.13</td>\n",
       "      <td>32.41</td>\n",
       "      <td>29.69</td>\n",
       "    </tr>\n",
       "  </tbody>\n",
       "</table>\n",
       "<p>117 rows × 18 columns</p>\n",
       "</div>"
      ],
      "text/plain": [
       "     YEAR    JAN    FEB    MAR    APR    MAY    JUN    JUL    AUG    SEP  \\\n",
       "0    1901  22.40  24.14  29.07  31.91  33.41  33.18  31.21  30.39  30.47   \n",
       "1    1902  24.93  26.58  29.77  31.78  33.73  32.91  30.92  30.73  29.80   \n",
       "2    1903  23.44  25.03  27.83  31.39  32.91  33.00  31.34  29.98  29.85   \n",
       "3    1904  22.50  24.73  28.21  32.02  32.64  32.07  30.36  30.09  30.04   \n",
       "4    1905  22.00  22.83  26.68  30.01  33.32  33.25  31.44  30.68  30.12   \n",
       "..    ...    ...    ...    ...    ...    ...    ...    ...    ...    ...   \n",
       "112  2013  24.56  26.59  30.62  32.66  34.46  32.44  31.07  30.76  31.04   \n",
       "113  2014  23.83  25.97  28.95  32.74  33.77  34.15  31.85  31.32  30.68   \n",
       "114  2015  24.58  26.89  29.07  31.87  34.09  32.48  31.88  31.52  31.55   \n",
       "115  2016  26.94  29.72  32.62  35.38  35.72  34.03  31.64  31.79  31.66   \n",
       "116  2017  26.45  29.46  31.60  34.95  35.84  33.82  31.88  31.72  32.22   \n",
       "\n",
       "       OCT    NOV    DEC  ANNUAL  JAN-FEB  MAR-MAY  JUN-SEP  OCT-DEC  \n",
       "0    29.97  27.31  24.49   28.96    23.27    31.46    31.27    27.25  \n",
       "1    29.12  26.31  24.04   29.22    25.75    31.76    31.09    26.49  \n",
       "2    29.04  26.08  23.65   28.47    24.24    30.71    30.92    26.26  \n",
       "3    29.20  26.36  23.63   28.49    23.62    30.95    30.66    26.40  \n",
       "4    30.67  27.52  23.82   28.30    22.25    30.00    31.33    26.57  \n",
       "..     ...    ...    ...     ...      ...      ...      ...      ...  \n",
       "112  30.27  27.83  25.37   29.81    25.58    32.58    31.33    27.83  \n",
       "113  30.29  28.05  25.08   29.72    24.90    31.82    32.00    27.81  \n",
       "114  31.04  28.10  25.67   29.90    25.74    31.68    31.87    28.27  \n",
       "115  31.98  30.11  28.01   31.63    28.33    34.57    32.28    30.03  \n",
       "116  32.29  29.60  27.18   31.42    27.95    34.13    32.41    29.69  \n",
       "\n",
       "[117 rows x 18 columns]"
      ]
     },
     "execution_count": 23,
     "metadata": {},
     "output_type": "execute_result"
    }
   ],
   "source": [
    "df"
   ]
  },
  {
   "cell_type": "code",
   "execution_count": 24,
   "id": "981eb0fd",
   "metadata": {},
   "outputs": [
    {
     "name": "stdout",
     "output_type": "stream",
     "text": [
      "<class 'pandas.core.frame.DataFrame'>\n",
      "RangeIndex: 117 entries, 0 to 116\n",
      "Data columns (total 18 columns):\n",
      " #   Column   Non-Null Count  Dtype  \n",
      "---  ------   --------------  -----  \n",
      " 0   YEAR     117 non-null    int64  \n",
      " 1   JAN      117 non-null    float64\n",
      " 2   FEB      117 non-null    float64\n",
      " 3   MAR      117 non-null    float64\n",
      " 4   APR      117 non-null    float64\n",
      " 5   MAY      117 non-null    float64\n",
      " 6   JUN      117 non-null    float64\n",
      " 7   JUL      117 non-null    float64\n",
      " 8   AUG      117 non-null    float64\n",
      " 9   SEP      117 non-null    float64\n",
      " 10  OCT      117 non-null    float64\n",
      " 11  NOV      117 non-null    float64\n",
      " 12  DEC      117 non-null    float64\n",
      " 13  ANNUAL   117 non-null    float64\n",
      " 14  JAN-FEB  117 non-null    float64\n",
      " 15  MAR-MAY  117 non-null    float64\n",
      " 16  JUN-SEP  117 non-null    float64\n",
      " 17  OCT-DEC  117 non-null    float64\n",
      "dtypes: float64(17), int64(1)\n",
      "memory usage: 16.6 KB\n"
     ]
    }
   ],
   "source": [
    "df.info()"
   ]
  },
  {
   "cell_type": "code",
   "execution_count": 25,
   "id": "9de6ce7c",
   "metadata": {},
   "outputs": [
    {
     "data": {
      "text/plain": [
       "(117, 1)"
      ]
     },
     "execution_count": 25,
     "metadata": {},
     "output_type": "execute_result"
    }
   ],
   "source": [
    "x=np.array(df['YEAR']).reshape(-1,1)\n",
    "x.shape"
   ]
  },
  {
   "cell_type": "code",
   "execution_count": 26,
   "id": "8d777f77",
   "metadata": {},
   "outputs": [
    {
     "data": {
      "text/plain": [
       "array([[22.4 ],\n",
       "       [24.93],\n",
       "       [23.44],\n",
       "       [22.5 ],\n",
       "       [22.  ],\n",
       "       [22.28],\n",
       "       [24.46],\n",
       "       [23.57],\n",
       "       [22.67],\n",
       "       [23.24],\n",
       "       [23.22],\n",
       "       [23.7 ],\n",
       "       [23.71],\n",
       "       [24.42],\n",
       "       [22.6 ],\n",
       "       [24.13],\n",
       "       [23.68],\n",
       "       [22.06],\n",
       "       [23.32],\n",
       "       [22.87],\n",
       "       [23.57],\n",
       "       [22.96],\n",
       "       [23.25],\n",
       "       [22.84],\n",
       "       [22.56],\n",
       "       [23.54],\n",
       "       [23.23],\n",
       "       [23.33],\n",
       "       [23.05],\n",
       "       [22.6 ],\n",
       "       [24.57],\n",
       "       [24.13],\n",
       "       [22.85],\n",
       "       [22.76],\n",
       "       [22.28],\n",
       "       [23.1 ],\n",
       "       [23.34],\n",
       "       [22.95],\n",
       "       [23.61],\n",
       "       [23.79],\n",
       "       [23.18],\n",
       "       [22.99],\n",
       "       [22.97],\n",
       "       [23.17],\n",
       "       [22.38],\n",
       "       [24.41],\n",
       "       [22.61],\n",
       "       [22.87],\n",
       "       [24.31],\n",
       "       [23.56],\n",
       "       [24.36],\n",
       "       [23.91],\n",
       "       [22.96],\n",
       "       [22.79],\n",
       "       [23.46],\n",
       "       [23.16],\n",
       "       [22.98],\n",
       "       [24.75],\n",
       "       [23.33],\n",
       "       [23.78],\n",
       "       [24.14],\n",
       "       [22.89],\n",
       "       [22.9 ],\n",
       "       [23.06],\n",
       "       [23.82],\n",
       "       [24.11],\n",
       "       [23.72],\n",
       "       [22.67],\n",
       "       [23.78],\n",
       "       [24.19],\n",
       "       [23.91],\n",
       "       [24.46],\n",
       "       [24.02],\n",
       "       [23.54],\n",
       "       [23.15],\n",
       "       [23.91],\n",
       "       [23.98],\n",
       "       [23.6 ],\n",
       "       [24.6 ],\n",
       "       [24.35],\n",
       "       [23.73],\n",
       "       [24.23],\n",
       "       [23.89],\n",
       "       [23.59],\n",
       "       [23.84],\n",
       "       [23.61],\n",
       "       [23.81],\n",
       "       [24.12],\n",
       "       [23.22],\n",
       "       [24.24],\n",
       "       [23.31],\n",
       "       [23.84],\n",
       "       [23.82],\n",
       "       [24.67],\n",
       "       [24.44],\n",
       "       [25.18],\n",
       "       [23.3 ],\n",
       "       [23.95],\n",
       "       [23.57],\n",
       "       [24.44],\n",
       "       [24.36],\n",
       "       [24.56],\n",
       "       [24.27],\n",
       "       [23.89],\n",
       "       [24.18],\n",
       "       [25.66],\n",
       "       [25.19],\n",
       "       [23.97],\n",
       "       [25.27],\n",
       "       [24.89],\n",
       "       [24.18],\n",
       "       [23.61],\n",
       "       [24.56],\n",
       "       [23.83],\n",
       "       [24.58],\n",
       "       [26.94],\n",
       "       [26.45]])"
      ]
     },
     "execution_count": 26,
     "metadata": {},
     "output_type": "execute_result"
    }
   ],
   "source": [
    "y=np.array(df['JAN']).reshape(-1,1)\n",
    "y"
   ]
  },
  {
   "cell_type": "code",
   "execution_count": 27,
   "id": "bd73886b",
   "metadata": {},
   "outputs": [
    {
     "data": {
      "text/plain": [
       "(117, 1)"
      ]
     },
     "execution_count": 27,
     "metadata": {},
     "output_type": "execute_result"
    }
   ],
   "source": [
    "y.shape"
   ]
  },
  {
   "cell_type": "code",
   "execution_count": 28,
   "id": "b1dcb918",
   "metadata": {},
   "outputs": [],
   "source": [
    "from sklearn.model_selection import train_test_split\n",
    "x_train, x_test, y_train, y_test = train_test_split(x, y, test_size=0.25, random_state=42)"
   ]
  },
  {
   "cell_type": "code",
   "execution_count": 29,
   "id": "a13e7b40",
   "metadata": {},
   "outputs": [
    {
     "data": {
      "text/plain": [
       "array([[2012],\n",
       "       [1966],\n",
       "       [1981],\n",
       "       [1931],\n",
       "       [1974],\n",
       "       [1948],\n",
       "       [1910],\n",
       "       [1934],\n",
       "       [2011],\n",
       "       [1968],\n",
       "       [1929],\n",
       "       [1946],\n",
       "       [1984],\n",
       "       [1906],\n",
       "       [1985],\n",
       "       [1967],\n",
       "       [1940],\n",
       "       [1936],\n",
       "       [1917],\n",
       "       [1965],\n",
       "       [1935],\n",
       "       [1956],\n",
       "       [1908],\n",
       "       [1944],\n",
       "       [1971],\n",
       "       [1978],\n",
       "       [1928],\n",
       "       [1920],\n",
       "       [1994],\n",
       "       [1999],\n",
       "       [1926],\n",
       "       [1909],\n",
       "       [1997],\n",
       "       [1950],\n",
       "       [1914],\n",
       "       [2008],\n",
       "       [1904],\n",
       "       [1918],\n",
       "       [1939],\n",
       "       [1991],\n",
       "       [1907],\n",
       "       [1989],\n",
       "       [2001],\n",
       "       [2015],\n",
       "       [1955],\n",
       "       [1951],\n",
       "       [1979],\n",
       "       [1947],\n",
       "       [1982],\n",
       "       [1962],\n",
       "       [2014],\n",
       "       [1980],\n",
       "       [1992],\n",
       "       [1942],\n",
       "       [1959],\n",
       "       [1949],\n",
       "       [2009],\n",
       "       [1958],\n",
       "       [1976],\n",
       "       [1933],\n",
       "       [2010],\n",
       "       [1960],\n",
       "       [1964],\n",
       "       [1998],\n",
       "       [1938],\n",
       "       [1930],\n",
       "       [2004],\n",
       "       [1902],\n",
       "       [1953],\n",
       "       [1922],\n",
       "       [1903],\n",
       "       [1924],\n",
       "       [2000],\n",
       "       [1988],\n",
       "       [2006],\n",
       "       [1975],\n",
       "       [1987],\n",
       "       [1983],\n",
       "       [2017],\n",
       "       [1921],\n",
       "       [1961],\n",
       "       [1972],\n",
       "       [2007],\n",
       "       [1915],\n",
       "       [1993],\n",
       "       [1952],\n",
       "       [2003]], dtype=int64)"
      ]
     },
     "execution_count": 29,
     "metadata": {},
     "output_type": "execute_result"
    }
   ],
   "source": [
    "x_train"
   ]
  },
  {
   "cell_type": "code",
   "execution_count": 30,
   "id": "2766d621",
   "metadata": {},
   "outputs": [
    {
     "data": {
      "text/plain": [
       "array([[23.61],\n",
       "       [24.11],\n",
       "       [23.73],\n",
       "       [24.57],\n",
       "       [23.54],\n",
       "       [22.87],\n",
       "       [23.24],\n",
       "       [22.76],\n",
       "       [24.18],\n",
       "       [22.67],\n",
       "       [23.05],\n",
       "       [24.41],\n",
       "       [23.59],\n",
       "       [22.28],\n",
       "       [23.84],\n",
       "       [23.72],\n",
       "       [23.79],\n",
       "       [23.1 ],\n",
       "       [23.68],\n",
       "       [23.82],\n",
       "       [22.28],\n",
       "       [23.16],\n",
       "       [23.57],\n",
       "       [23.17],\n",
       "       [23.91],\n",
       "       [23.6 ],\n",
       "       [23.33],\n",
       "       [22.87],\n",
       "       [24.67],\n",
       "       [23.57],\n",
       "       [23.54],\n",
       "       [22.67],\n",
       "       [23.3 ],\n",
       "       [23.56],\n",
       "       [24.42],\n",
       "       [23.97],\n",
       "       [22.5 ],\n",
       "       [22.06],\n",
       "       [23.61],\n",
       "       [23.31],\n",
       "       [24.46],\n",
       "       [23.22],\n",
       "       [24.36],\n",
       "       [24.58],\n",
       "       [23.46],\n",
       "       [24.36],\n",
       "       [24.6 ],\n",
       "       [22.61],\n",
       "       [24.23],\n",
       "       [22.89],\n",
       "       [23.83],\n",
       "       [24.35],\n",
       "       [23.84],\n",
       "       [22.99],\n",
       "       [23.33],\n",
       "       [24.31],\n",
       "       [25.27],\n",
       "       [24.75],\n",
       "       [23.91],\n",
       "       [22.85],\n",
       "       [24.89],\n",
       "       [23.78],\n",
       "       [23.06],\n",
       "       [23.95],\n",
       "       [22.95],\n",
       "       [22.6 ],\n",
       "       [23.89],\n",
       "       [24.93],\n",
       "       [22.96],\n",
       "       [22.96],\n",
       "       [23.44],\n",
       "       [22.84],\n",
       "       [24.44],\n",
       "       [24.12],\n",
       "       [25.66],\n",
       "       [23.15],\n",
       "       [23.81],\n",
       "       [23.89],\n",
       "       [26.45],\n",
       "       [23.57],\n",
       "       [24.14],\n",
       "       [24.46],\n",
       "       [25.19],\n",
       "       [22.6 ],\n",
       "       [23.82],\n",
       "       [23.91],\n",
       "       [24.27]])"
      ]
     },
     "execution_count": 30,
     "metadata": {},
     "output_type": "execute_result"
    }
   ],
   "source": [
    "y_train"
   ]
  },
  {
   "cell_type": "code",
   "execution_count": 52,
   "id": "b2dcbf73",
   "metadata": {},
   "outputs": [],
   "source": [
    "from sklearn.linear_model import LinearRegression\n",
    "lr=LinearRegression()\n",
    "model=lr.fit(x_train,y_train)\n"
   ]
  },
  {
   "cell_type": "code",
   "execution_count": 53,
   "id": "0580cf94",
   "metadata": {},
   "outputs": [
    {
     "name": "stdout",
     "output_type": "stream",
     "text": [
      "[-0.66170527]\n",
      "[[0.01242257]]\n"
     ]
    }
   ],
   "source": [
    "print(lr.intercept_)\n",
    "print(lr.coef_)"
   ]
  },
  {
   "cell_type": "code",
   "execution_count": 56,
   "id": "4bc5de85",
   "metadata": {},
   "outputs": [],
   "source": [
    "y_pred=model.predict(x_test)"
   ]
  },
  {
   "cell_type": "code",
   "execution_count": 57,
   "id": "00eb20af",
   "metadata": {},
   "outputs": [
    {
     "name": "stdout",
     "output_type": "stream",
     "text": [
      "MAE=  0.5220295907600104\n",
      "MsE=  0.5285626287719306\n",
      "RMSE=  0.727023128085985\n"
     ]
    }
   ],
   "source": [
    "from sklearn import metrics\n",
    "print(\"MAE= \",metrics.mean_absolute_error(y_test,y_pred))\n",
    "print(\"MsE= \",metrics.mean_squared_error(y_test,y_pred))\n",
    "print(\"RMSE= \",np.sqrt(metrics.mean_squared_error(y_test,y_pred)))\n"
   ]
  },
  {
   "cell_type": "code",
   "execution_count": 49,
   "id": "fcbb77f0",
   "metadata": {},
   "outputs": [
    {
     "data": {
      "text/html": [
       "<div>\n",
       "<style scoped>\n",
       "    .dataframe tbody tr th:only-of-type {\n",
       "        vertical-align: middle;\n",
       "    }\n",
       "\n",
       "    .dataframe tbody tr th {\n",
       "        vertical-align: top;\n",
       "    }\n",
       "\n",
       "    .dataframe thead th {\n",
       "        text-align: right;\n",
       "    }\n",
       "</style>\n",
       "<table border=\"1\" class=\"dataframe\">\n",
       "  <thead>\n",
       "    <tr style=\"text-align: right;\">\n",
       "      <th></th>\n",
       "      <th>YEAR</th>\n",
       "      <th>Actual</th>\n",
       "      <th>Predicted</th>\n",
       "    </tr>\n",
       "  </thead>\n",
       "  <tbody>\n",
       "    <tr>\n",
       "      <th>0</th>\n",
       "      <td>1945</td>\n",
       "      <td>22.38</td>\n",
       "      <td>23.500187</td>\n",
       "    </tr>\n",
       "    <tr>\n",
       "      <th>1</th>\n",
       "      <td>1905</td>\n",
       "      <td>22.00</td>\n",
       "      <td>23.003284</td>\n",
       "    </tr>\n",
       "    <tr>\n",
       "      <th>2</th>\n",
       "      <td>1954</td>\n",
       "      <td>22.79</td>\n",
       "      <td>23.611990</td>\n",
       "    </tr>\n",
       "    <tr>\n",
       "      <th>3</th>\n",
       "      <td>1943</td>\n",
       "      <td>22.97</td>\n",
       "      <td>23.475342</td>\n",
       "    </tr>\n",
       "    <tr>\n",
       "      <th>4</th>\n",
       "      <td>1911</td>\n",
       "      <td>23.22</td>\n",
       "      <td>23.077819</td>\n",
       "    </tr>\n",
       "    <tr>\n",
       "      <th>5</th>\n",
       "      <td>1986</td>\n",
       "      <td>23.61</td>\n",
       "      <td>24.009512</td>\n",
       "    </tr>\n",
       "    <tr>\n",
       "      <th>6</th>\n",
       "      <td>1973</td>\n",
       "      <td>24.02</td>\n",
       "      <td>23.848019</td>\n",
       "    </tr>\n",
       "    <tr>\n",
       "      <th>7</th>\n",
       "      <td>1995</td>\n",
       "      <td>24.44</td>\n",
       "      <td>24.121315</td>\n",
       "    </tr>\n",
       "    <tr>\n",
       "      <th>8</th>\n",
       "      <td>1937</td>\n",
       "      <td>23.34</td>\n",
       "      <td>23.400806</td>\n",
       "    </tr>\n",
       "    <tr>\n",
       "      <th>9</th>\n",
       "      <td>1912</td>\n",
       "      <td>23.70</td>\n",
       "      <td>23.090242</td>\n",
       "    </tr>\n",
       "    <tr>\n",
       "      <th>10</th>\n",
       "      <td>1941</td>\n",
       "      <td>23.18</td>\n",
       "      <td>23.450496</td>\n",
       "    </tr>\n",
       "    <tr>\n",
       "      <th>11</th>\n",
       "      <td>1927</td>\n",
       "      <td>23.23</td>\n",
       "      <td>23.276580</td>\n",
       "    </tr>\n",
       "    <tr>\n",
       "      <th>12</th>\n",
       "      <td>1996</td>\n",
       "      <td>25.18</td>\n",
       "      <td>24.133738</td>\n",
       "    </tr>\n",
       "    <tr>\n",
       "      <th>13</th>\n",
       "      <td>2005</td>\n",
       "      <td>24.18</td>\n",
       "      <td>24.245541</td>\n",
       "    </tr>\n",
       "    <tr>\n",
       "      <th>14</th>\n",
       "      <td>1919</td>\n",
       "      <td>23.32</td>\n",
       "      <td>23.177200</td>\n",
       "    </tr>\n",
       "    <tr>\n",
       "      <th>15</th>\n",
       "      <td>1901</td>\n",
       "      <td>22.40</td>\n",
       "      <td>22.953594</td>\n",
       "    </tr>\n",
       "    <tr>\n",
       "      <th>16</th>\n",
       "      <td>1963</td>\n",
       "      <td>22.90</td>\n",
       "      <td>23.723793</td>\n",
       "    </tr>\n",
       "    <tr>\n",
       "      <th>17</th>\n",
       "      <td>2013</td>\n",
       "      <td>24.56</td>\n",
       "      <td>24.344921</td>\n",
       "    </tr>\n",
       "    <tr>\n",
       "      <th>18</th>\n",
       "      <td>1977</td>\n",
       "      <td>23.98</td>\n",
       "      <td>23.897709</td>\n",
       "    </tr>\n",
       "    <tr>\n",
       "      <th>19</th>\n",
       "      <td>2002</td>\n",
       "      <td>24.56</td>\n",
       "      <td>24.208273</td>\n",
       "    </tr>\n",
       "    <tr>\n",
       "      <th>20</th>\n",
       "      <td>1969</td>\n",
       "      <td>23.78</td>\n",
       "      <td>23.798328</td>\n",
       "    </tr>\n",
       "    <tr>\n",
       "      <th>21</th>\n",
       "      <td>1990</td>\n",
       "      <td>24.24</td>\n",
       "      <td>24.059202</td>\n",
       "    </tr>\n",
       "    <tr>\n",
       "      <th>22</th>\n",
       "      <td>2016</td>\n",
       "      <td>26.94</td>\n",
       "      <td>24.382189</td>\n",
       "    </tr>\n",
       "    <tr>\n",
       "      <th>23</th>\n",
       "      <td>1913</td>\n",
       "      <td>23.71</td>\n",
       "      <td>23.102665</td>\n",
       "    </tr>\n",
       "    <tr>\n",
       "      <th>24</th>\n",
       "      <td>1916</td>\n",
       "      <td>24.13</td>\n",
       "      <td>23.139932</td>\n",
       "    </tr>\n",
       "    <tr>\n",
       "      <th>25</th>\n",
       "      <td>1970</td>\n",
       "      <td>24.19</td>\n",
       "      <td>23.810751</td>\n",
       "    </tr>\n",
       "    <tr>\n",
       "      <th>26</th>\n",
       "      <td>1932</td>\n",
       "      <td>24.13</td>\n",
       "      <td>23.338693</td>\n",
       "    </tr>\n",
       "    <tr>\n",
       "      <th>27</th>\n",
       "      <td>1925</td>\n",
       "      <td>22.56</td>\n",
       "      <td>23.251735</td>\n",
       "    </tr>\n",
       "    <tr>\n",
       "      <th>28</th>\n",
       "      <td>1957</td>\n",
       "      <td>22.98</td>\n",
       "      <td>23.649257</td>\n",
       "    </tr>\n",
       "    <tr>\n",
       "      <th>29</th>\n",
       "      <td>1923</td>\n",
       "      <td>23.25</td>\n",
       "      <td>23.226890</td>\n",
       "    </tr>\n",
       "  </tbody>\n",
       "</table>\n",
       "</div>"
      ],
      "text/plain": [
       "    YEAR  Actual  Predicted\n",
       "0   1945   22.38  23.500187\n",
       "1   1905   22.00  23.003284\n",
       "2   1954   22.79  23.611990\n",
       "3   1943   22.97  23.475342\n",
       "4   1911   23.22  23.077819\n",
       "5   1986   23.61  24.009512\n",
       "6   1973   24.02  23.848019\n",
       "7   1995   24.44  24.121315\n",
       "8   1937   23.34  23.400806\n",
       "9   1912   23.70  23.090242\n",
       "10  1941   23.18  23.450496\n",
       "11  1927   23.23  23.276580\n",
       "12  1996   25.18  24.133738\n",
       "13  2005   24.18  24.245541\n",
       "14  1919   23.32  23.177200\n",
       "15  1901   22.40  22.953594\n",
       "16  1963   22.90  23.723793\n",
       "17  2013   24.56  24.344921\n",
       "18  1977   23.98  23.897709\n",
       "19  2002   24.56  24.208273\n",
       "20  1969   23.78  23.798328\n",
       "21  1990   24.24  24.059202\n",
       "22  2016   26.94  24.382189\n",
       "23  1913   23.71  23.102665\n",
       "24  1916   24.13  23.139932\n",
       "25  1970   24.19  23.810751\n",
       "26  1932   24.13  23.338693\n",
       "27  1925   22.56  23.251735\n",
       "28  1957   22.98  23.649257\n",
       "29  1923   23.25  23.226890"
      ]
     },
     "execution_count": 49,
     "metadata": {},
     "output_type": "execute_result"
    }
   ],
   "source": [
    "pd.DataFrame({'YEAR':x_test.flatten(),'Actual':y_test.flatten(),'Predicted':y_pred.flatten()})"
   ]
  },
  {
   "cell_type": "code",
   "execution_count": 50,
   "id": "c60e884a",
   "metadata": {},
   "outputs": [],
   "source": [
    "cols=df.columns[1:13]"
   ]
  },
  {
   "cell_type": "code",
   "execution_count": 51,
   "id": "141a6374",
   "metadata": {},
   "outputs": [
    {
     "data": {
      "text/plain": [
       "Index(['JAN', 'FEB', 'MAR', 'APR', 'MAY', 'JUN', 'JUL', 'AUG', 'SEP', 'OCT',\n",
       "       'NOV', 'DEC'],\n",
       "      dtype='object')"
      ]
     },
     "execution_count": 51,
     "metadata": {},
     "output_type": "execute_result"
    }
   ],
   "source": [
    "cols"
   ]
  },
  {
   "cell_type": "code",
   "execution_count": 60,
   "id": "fe6a73cf",
   "metadata": {},
   "outputs": [
    {
     "name": "stdout",
     "output_type": "stream",
     "text": [
      "====================== JAN ======================\n",
      "MAE=  0.5220295907600104\n",
      "MsE=  0.5285626287719306\n",
      "RMSE=  0.727023128085985\n",
      "R2 Error=  0.41999343079141704\n"
     ]
    },
    {
     "data": {
      "image/png": "[encoded data removed]",
      "text/plain": [
       "<Figure size 432x288 with 1 Axes>"
      ]
     },
     "metadata": {
      "needs_background": "light"
     },
     "output_type": "display_data"
    },
    {
     "name": "stdout",
     "output_type": "stream",
     "text": [
      "====================== FEB ======================\n",
      "MAE=  0.5941004406085901\n",
      "MsE=  0.7094316190322201\n",
      "RMSE=  0.8422776377372369\n",
      "R2 Error=  0.5534780026916302\n"
     ]
    },
    {
     "data": {
      "image/png": "[encoded data removed]",
      "text/plain": [
       "<Figure size 432x288 with 1 Axes>"
      ]
     },
     "metadata": {
      "needs_background": "light"
     },
     "output_type": "display_data"
    },
    {
     "name": "stdout",
     "output_type": "stream",
     "text": [
      "====================== MAR ======================\n",
      "MAE=  0.7718144812314737\n",
      "MsE=  0.9798011229130275\n",
      "RMSE=  0.9898490404667913\n",
      "R2 Error=  0.3486164185809315\n"
     ]
    },
    {
     "data": {
      "image/png": "[encoded data removed]",
      "text/plain": [
       "<Figure size 432x288 with 1 Axes>"
      ]
     },
     "metadata": {
      "needs_background": "light"
     },
     "output_type": "display_data"
    },
    {
     "name": "stdout",
     "output_type": "stream",
     "text": [
      "====================== APR ======================\n",
      "MAE=  0.6782681999450079\n",
      "MsE=  0.74826615492424\n",
      "RMSE=  0.8650237886464395\n",
      "R2 Error=  0.27487000387221183\n"
     ]
    },
    {
     "data": {
      "image/png": "[encoded data removed]",
      "text/plain": [
       "<Figure size 432x288 with 1 Axes>"
      ]
     },
     "metadata": {
      "needs_background": "light"
     },
     "output_type": "display_data"
    },
    {
     "name": "stdout",
     "output_type": "stream",
     "text": [
      "====================== MAY ======================\n",
      "MAE=  0.5369493624684301\n",
      "MsE=  0.4445618503398803\n",
      "RMSE=  0.6667547152738257\n",
      "R2 Error=  0.21928484439696516\n"
     ]
    },
    {
     "data": {
      "image/png": "[encoded data removed]",
      "text/plain": [
       "<Figure size 432x288 with 1 Axes>"
      ]
     },
     "metadata": {
      "needs_background": "light"
     },
     "output_type": "display_data"
    },
    {
     "name": "stdout",
     "output_type": "stream",
     "text": [
      "====================== JUN ======================\n",
      "MAE=  0.5082262915704155\n",
      "MsE=  0.3850772181749755\n",
      "RMSE=  0.6205459033584667\n",
      "R2 Error=  0.037816110204246134\n"
     ]
    },
    {
     "data": {
      "image/png": "[encoded data removed]",
      "text/plain": [
       "<Figure size 432x288 with 1 Axes>"
      ]
     },
     "metadata": {
      "needs_background": "light"
     },
     "output_type": "display_data"
    },
    {
     "name": "stdout",
     "output_type": "stream",
     "text": [
      "====================== JUL ======================\n",
      "MAE=  0.32209437326912876\n",
      "MsE=  0.18676507456640326\n",
      "RMSE=  0.4321632499026303\n",
      "R2 Error=  0.12845205403361792\n"
     ]
    },
    {
     "data": {
      "image/png": "[encoded data removed]",
      "text/plain": [
       "<Figure size 432x288 with 1 Axes>"
      ]
     },
     "metadata": {
      "needs_background": "light"
     },
     "output_type": "display_data"
    },
    {
     "name": "stdout",
     "output_type": "stream",
     "text": [
      "====================== AUG ======================\n",
      "MAE=  0.2991464462953874\n",
      "MsE=  0.15267001943080125\n",
      "RMSE=  0.39073011072964575\n",
      "R2 Error=  0.1878529497152457\n"
     ]
    },
    {
     "data": {
      "image/png": "[encoded data removed]",
      "text/plain": [
       "<Figure size 432x288 with 1 Axes>"
      ]
     },
     "metadata": {
      "needs_background": "light"
     },
     "output_type": "display_data"
    },
    {
     "name": "stdout",
     "output_type": "stream",
     "text": [
      "====================== SEP ======================\n",
      "MAE=  0.22214220496321674\n",
      "MsE=  0.08503782101344824\n",
      "RMSE=  0.29161245003162717\n",
      "R2 Error=  0.551644884275631\n"
     ]
    },
    {
     "data": {
      "image/png": "[encoded data removed]",
      "text/plain": [
       "<Figure size 432x288 with 1 Axes>"
      ]
     },
     "metadata": {
      "needs_background": "light"
     },
     "output_type": "display_data"
    },
    {
     "name": "stdout",
     "output_type": "stream",
     "text": [
      "====================== OCT ======================\n",
      "MAE=  0.5187712439816246\n",
      "MsE=  0.4525186506320279\n",
      "RMSE=  0.6726950651164523\n",
      "R2 Error=  0.1738207716960225\n"
     ]
    },
    {
     "data": {
      "image/png": "[encoded data removed]",
      "text/plain": [
       "<Figure size 432x288 with 1 Axes>"
      ]
     },
     "metadata": {
      "needs_background": "light"
     },
     "output_type": "display_data"
    },
    {
     "name": "stdout",
     "output_type": "stream",
     "text": [
      "====================== NOV ======================\n",
      "MAE=  0.45691010570395607\n",
      "MsE=  0.38166445054395387\n",
      "RMSE=  0.6177899728418663\n",
      "R2 Error=  0.5032642230456971\n"
     ]
    },
    {
     "data": {
      "image/png": "[encoded data removed]",
      "text/plain": [
       "<Figure size 432x288 with 1 Axes>"
      ]
     },
     "metadata": {
      "needs_background": "light"
     },
     "output_type": "display_data"
    },
    {
     "name": "stdout",
     "output_type": "stream",
     "text": [
      "====================== DEC ======================\n",
      "MAE=  0.41595204119194285\n",
      "MsE=  0.40793729359218694\n",
      "RMSE=  0.6386996896759751\n",
      "R2 Error=  0.5343914482347869\n"
     ]
    },
    {
     "data": {
      "image/png": "[encoded data removed]",
      "text/plain": [
       "<Figure size 432x288 with 1 Axes>"
      ]
     },
     "metadata": {
      "needs_background": "light"
     },
     "output_type": "display_data"
    }
   ],
   "source": [
    "import matplotlib.pyplot as plt\n",
    "for i in range(12):\n",
    "    print(\"======================\",cols[i],\"======================\")\n",
    "    y=df[cols[i]]\n",
    "    x_train, x_test, y_train, y_test = train_test_split(x, y, test_size=0.25, random_state=42)\n",
    "    model=lr.fit(x_train,y_train)\n",
    "    y_pred=model.predict(x_test)\n",
    "    print(\"MAE= \",metrics.mean_absolute_error(y_test,y_pred))\n",
    "    print(\"MsE= \",metrics.mean_squared_error(y_test,y_pred))\n",
    "    print(\"RMSE= \",np.sqrt(metrics.mean_squared_error(y_test,y_pred)))\n",
    "    print(\"R2 Error= \",metrics.r2_score(y_test,y_pred))\n",
    "    plt.scatter(x_test,y_test)\n",
    "    plt.plot(x_test,y_pred,color='red')\n",
    "    plt.title(\"Temperature vs Year\")\n",
    "    plt.xlabel(\"Year\")\n",
    "    plt.ylabel(\"Temperature\")\n",
    "    plt.show()\n",
    "    "
   ]
  },
  {
   "cell_type": "code",
   "execution_count": null,
   "id": "60a81c7e",
   "metadata": {},
   "outputs": [],
   "source": [
    "df['']"
   ]
  }
 ],
 "metadata": {
  "kernelspec": {
   "display_name": "Python 3",
   "language": "python",
   "name": "python3"
  },
  "language_info": {
   "codemirror_mode": {
    "name": "ipython",
    "version": 3
   },
   "file_extension": ".py",
   "mimetype": "text/x-python",
   "name": "python",
   "nbconvert_exporter": "python",
   "pygments_lexer": "ipython3",
   "version": "3.8.8"
  }
 },
 "nbformat": 4,
 "nbformat_minor": 5
}
